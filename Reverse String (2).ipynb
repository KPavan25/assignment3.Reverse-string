{
 "cells": [
  {
   "cell_type": "code",
   "execution_count": 18,
   "id": "8a78abe9",
   "metadata": {},
   "outputs": [
    {
     "name": "stdout",
     "output_type": "stream",
     "text": [
      "enter the string1234abcd\n",
      "db4213ac\n"
     ]
    }
   ],
   "source": [
    "'''Write a Python program to reverse a string.\n",
    "Sample String : \"1234abcd\"\n",
    "\n",
    "Expected Output : \"dcba4321\"'''\n",
    "\n",
    "x = input(\"enter the string\")\n",
    "\n",
    "emp_list = []\n",
    "\n",
    "for i in x:\n",
    "\n",
    "    emp_list.append(i)\n",
    "\n",
    "    emp_list.reverse()\n",
    "\n",
    "print(\"\".join(emp_list))"
   ]
  },
  {
   "cell_type": "markdown",
   "id": "18bff04a",
   "metadata": {},
   "source": [
    "### "
   ]
  },
  {
   "cell_type": "code",
   "execution_count": null,
   "id": "42e367f0",
   "metadata": {},
   "outputs": [],
   "source": []
  }
 ],
 "metadata": {
  "kernelspec": {
   "display_name": "Python 3 (ipykernel)",
   "language": "python",
   "name": "python3"
  },
  "language_info": {
   "codemirror_mode": {
    "name": "ipython",
    "version": 3
   },
   "file_extension": ".py",
   "mimetype": "text/x-python",
   "name": "python",
   "nbconvert_exporter": "python",
   "pygments_lexer": "ipython3",
   "version": "3.9.12"
  }
 },
 "nbformat": 4,
 "nbformat_minor": 5
}
